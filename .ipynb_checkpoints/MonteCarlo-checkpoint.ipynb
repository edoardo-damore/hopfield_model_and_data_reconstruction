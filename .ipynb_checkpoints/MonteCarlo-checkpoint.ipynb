{
 "cells": [
  {
   "cell_type": "code",
   "execution_count": 1,
   "id": "62265575",
   "metadata": {},
   "outputs": [],
   "source": [
    "import numpy as np\n",
    "import matplotlib.pyplot as plt"
   ]
  },
  {
   "cell_type": "markdown",
   "id": "fc81270a",
   "metadata": {},
   "source": [
    "### Generate a pattern 1d"
   ]
  },
  {
   "cell_type": "code",
   "execution_count": 2,
   "id": "c26504fb",
   "metadata": {},
   "outputs": [],
   "source": [
    "def create_patterns_1d(N_spins,mu):\n",
    "    np.random.seed(1234)\n",
    "    #N_spins = 200 # number of spins\n",
    "    #mu = 5 # number of patterns\n",
    "    patterns = np.array([np.random.randint(0,2,N_spins) * 2 -1 for i in range(mu)])\n",
    "    return patterns"
   ]
  },
  {
   "cell_type": "markdown",
   "id": "8c73a171",
   "metadata": {},
   "source": [
    "### Compute the energy of the configuration"
   ]
  },
  {
   "cell_type": "markdown",
   "id": "7e0a8a2b",
   "metadata": {},
   "source": [
    "##### weights matrix\n"
   ]
  },
  {
   "cell_type": "code",
   "execution_count": 3,
   "id": "8e1a629b",
   "metadata": {
    "scrolled": true
   },
   "outputs": [],
   "source": [
    "def compute_weights_1d(patterns):\n",
    "    N_spins = patterns.shape[1]\n",
    "    weight_matrix = (1/N_spins) * np.outer(patterns[0],patterns[0])\n",
    "    for i in range(1,patterns.shape[0]):\n",
    "        weight_matrix += (1/N_spins) * np.outer(patterns[i],patterns[i])\n",
    "    np.fill_diagonal(weight_matrix, 0)\n",
    "    return weight_matrix"
   ]
  },
  {
   "cell_type": "markdown",
   "id": "ed0d7301",
   "metadata": {},
   "source": [
    "##### Energy computation (for each stored pattern)"
   ]
  },
  {
   "cell_type": "code",
   "execution_count": 4,
   "id": "fe7d1073",
   "metadata": {},
   "outputs": [],
   "source": [
    "def compute_energy_1d(pattern, weights):\n",
    "    E = -0.5 * np.dot(pattern, np.dot(weights, pattern))\n",
    "    return E"
   ]
  },
  {
   "cell_type": "markdown",
   "id": "ecb3ba2e",
   "metadata": {},
   "source": [
    "##### Corrupt a pattern"
   ]
  },
  {
   "cell_type": "code",
   "execution_count": 5,
   "id": "2aabe8b3",
   "metadata": {},
   "outputs": [],
   "source": [
    "def pattern_corruption_1d(pattern,q):\n",
    "    corrupted = pattern.copy()\n",
    "    flip_numbers = int(len(pattern) * q)\n",
    "    flip_indexes = np.random.choice(len(pattern), flip_numbers, replace = False)\n",
    "    corrupted[flip_indexes] *= -1\n",
    "    return corrupted"
   ]
  },
  {
   "cell_type": "markdown",
   "id": "bf95e38f",
   "metadata": {},
   "source": [
    "##### Metropolis minimization of energy"
   ]
  },
  {
   "cell_type": "code",
   "execution_count": 6,
   "id": "980bb71e",
   "metadata": {},
   "outputs": [],
   "source": [
    "def metropolis_1d(corrupted, weights, T, steps):\n",
    "    beta = 1/T\n",
    "    pattern_copy = corrupted.copy()\n",
    "    \n",
    "    for _ in range(steps):\n",
    "        i = np.random.randint(0,len(corrupted))\n",
    "        hi = np.sum(weights[i] * pattern_copy)\n",
    "        Delta_E = 2 * pattern_copy[i] * hi\n",
    "        x = np.random.random()\n",
    "        \n",
    "        #Metropolis condition:\n",
    "        if Delta_E < 0 or x < np.exp(-beta * Delta_E):\n",
    "            pattern_copy[i] *= -1\n",
    "    return pattern_copy"
   ]
  },
  {
   "cell_type": "markdown",
   "id": "ee5b86d0",
   "metadata": {},
   "source": [
    "##### Check pattern correctness"
   ]
  },
  {
   "cell_type": "code",
   "execution_count": 7,
   "id": "429d9a48",
   "metadata": {},
   "outputs": [],
   "source": [
    "def check_correctness(original, retrieved):\n",
    "    return np.mean(original == retrieved)  # Fraction of correct spins"
   ]
  },
  {
   "cell_type": "markdown",
   "id": "1f61c625",
   "metadata": {},
   "source": [
    "##### Example of application"
   ]
  },
  {
   "cell_type": "code",
   "execution_count": 8,
   "id": "a4417b78",
   "metadata": {},
   "outputs": [
    {
     "name": "stdout",
     "output_type": "stream",
     "text": [
      "corrupted pattern: \n",
      "\n",
      "[ 1  1 -1  1 -1 -1 -1  1  1  1  1  1 -1 -1  1 -1 -1 -1 -1 -1 -1 -1 -1 -1\n",
      "  1 -1  1  1 -1 -1  1 -1 -1  1 -1  1 -1 -1 -1  1  1  1 -1  1  1 -1  1 -1\n",
      "  1 -1  1  1  1  1 -1  1 -1  1  1 -1 -1  1 -1 -1  1  1  1 -1 -1 -1  1  1\n",
      "  1  1 -1  1  1 -1  1 -1  1 -1  1 -1 -1 -1 -1 -1 -1 -1 -1  1  1  1 -1  1\n",
      " -1 -1  1  1 -1  1 -1  1  1 -1  1 -1 -1 -1  1  1  1 -1  1 -1 -1  1  1  1\n",
      "  1 -1 -1 -1  1 -1  1 -1  1 -1  1 -1  1 -1 -1 -1  1  1  1  1 -1  1  1  1\n",
      " -1 -1 -1  1 -1  1 -1  1  1 -1  1 -1  1  1  1 -1 -1 -1 -1 -1  1 -1 -1 -1\n",
      " -1 -1 -1 -1  1 -1 -1  1  1 -1  1 -1  1  1 -1  1  1 -1 -1  1  1 -1 -1  1\n",
      "  1 -1 -1  1  1 -1  1 -1]\n",
      "\n",
      "Energy after the corruption:  -80.44999999999999\n",
      "\n",
      " Retrieved pattern: \n",
      "\n",
      " [ 1  1 -1  1 -1 -1 -1  1  1  1  1  1 -1 -1  1 -1 -1 -1 -1 -1 -1 -1 -1 -1\n",
      "  1 -1  1  1 -1 -1  1 -1 -1  1 -1  1 -1 -1 -1  1  1  1 -1  1  1 -1  1 -1\n",
      "  1 -1  1  1  1  1 -1  1 -1  1  1 -1 -1  1 -1 -1  1  1  1 -1 -1 -1  1  1\n",
      "  1  1  1  1  1 -1  1 -1  1 -1  1 -1 -1 -1 -1 -1 -1 -1 -1  1  1  1 -1  1\n",
      " -1 -1  1  1 -1  1 -1  1  1 -1  1 -1 -1 -1  1  1 -1 -1 -1 -1 -1  1  1  1\n",
      "  1 -1  1 -1  1 -1  1 -1  1 -1  1 -1  1 -1  1 -1  1  1  1  1 -1  1  1  1\n",
      " -1 -1 -1  1 -1  1 -1  1  1 -1  1 -1 -1  1  1  1  1 -1 -1 -1  1 -1 -1 -1\n",
      " -1 -1 -1 -1  1 -1 -1  1  1 -1 -1 -1  1 -1 -1  1  1 -1 -1  1  1 -1 -1  1\n",
      "  1 -1 -1  1  1 -1  1 -1]\n",
      "\n",
      "Energy of the retrieved pattern:  -98.97\n",
      "accuracy:  1.0\n",
      "[[ 0.     0.005 -0.005 ...  0.005  0.015  0.005]\n",
      " [ 0.005  0.    -0.005 ... -0.015  0.015 -0.015]\n",
      " [-0.005 -0.005  0.    ...  0.015 -0.015  0.015]\n",
      " ...\n",
      " [ 0.005 -0.015  0.015 ...  0.    -0.005  0.025]\n",
      " [ 0.015  0.015 -0.015 ... -0.005  0.    -0.005]\n",
      " [ 0.005 -0.015  0.015 ...  0.025 -0.005  0.   ]]\n"
     ]
    }
   ],
   "source": [
    "#Create the patterns:\n",
    "patterns = create_patterns_1d(200,5) # 5 1-d patterns of 200 spins each one\n",
    "J = compute_weights_1d(patterns) # compute the weights matrix\n",
    "\n",
    "# Apply MC evolution for pattern 0 for example\n",
    "q = 0.05 # fraction of corrupted spins in a pattern\n",
    "corrupted = pattern_corruption_1d(patterns[0],q) # corrupt pattern 0\n",
    "\n",
    "#let'see the results:\n",
    "print(\"corrupted pattern: \\n\")\n",
    "print(corrupted)\n",
    "print(\"\\nEnergy after the corruption: \", compute_energy_1d(corrupted, J)) #check total energy of the configuration\n",
    "print(\"\\n Retrieved pattern: \")\n",
    "\n",
    "T = 0.001 # thermal noise\n",
    "steps = 1000 # number of iterations\n",
    "retrieved_pattern = metropolis_1d(corrupted,J,T,steps) #apply metropolis algorithm to retrieve the original stored pattern\n",
    "print(\"\\n\",retrieved_pattern)\n",
    "print(\"\\nEnergy of the retrieved pattern: \", compute_energy_1d(retrieved_pattern, J))\n",
    "\n",
    "# check accuracy of the retrieval process\n",
    "print(\"accuracy: \", check_correctness(patterns[0],retrieved_pattern))"
   ]
  },
  {
   "cell_type": "markdown",
   "id": "46ac04f4",
   "metadata": {},
   "source": [
    "## 2D implementation\n",
    "\n",
    "We now implement the same functions used for the 1-d case to describe a 2-dimensional pattern"
   ]
  },
  {
   "cell_type": "code",
   "execution_count": 9,
   "id": "612632e9",
   "metadata": {},
   "outputs": [],
   "source": [
    "def create_patterns_2d(rows,columns,N_patterns):\n",
    "    np.random.seed(1234)\n",
    "    patterns = []\n",
    "    for _ in range(N_patterns):\n",
    "        pattern = np.random.randint(0,2,size = (rows,columns)) * 2 -1\n",
    "        patterns.append(pattern)\n",
    "    return np.array(patterns)"
   ]
  },
  {
   "cell_type": "code",
   "execution_count": 10,
   "id": "c8db5a77",
   "metadata": {},
   "outputs": [],
   "source": [
    "def compute_weights_2d(patterns):\n",
    "    N_spins = patterns.shape[1] * patterns.shape[2]\n",
    "    weight_matrix = (1/N_spins) * np.outer(patterns[0],patterns[0])\n",
    "    for i in range(1,patterns.shape[0]):\n",
    "        weight_matrix += (1/N_spins) * np.outer(patterns[i],patterns[i])\n",
    "    np.fill_diagonal(weight_matrix, 0)\n",
    "    return weight_matrix"
   ]
  },
  {
   "cell_type": "code",
   "execution_count": 11,
   "id": "c52d6579",
   "metadata": {},
   "outputs": [],
   "source": [
    "def compute_energy_2d(pattern, weights):\n",
    "    E = -0.5 * np.dot(pattern.reshape(-1), np.dot(weights, pattern.reshape(-1))) #flattens the matrix in a 1d array\n",
    "    return E"
   ]
  },
  {
   "cell_type": "code",
   "execution_count": 12,
   "id": "6293718a",
   "metadata": {},
   "outputs": [],
   "source": [
    "def pattern_corruption_2d(pattern,q):\n",
    "    rows = pattern.shape[0]\n",
    "    columns = pattern.shape[1]\n",
    "    corrupted = pattern.reshape(-1).copy()\n",
    "    flip_numbers = int(len(corrupted) * q)\n",
    "    flip_indexes = np.random.choice(len(pattern), flip_numbers, replace = False)\n",
    "    corrupted[flip_indexes] *= -1\n",
    "    return corrupted.reshape(rows,columns)"
   ]
  },
  {
   "cell_type": "code",
   "execution_count": 13,
   "id": "bae0e0a4",
   "metadata": {},
   "outputs": [],
   "source": [
    "def metropolis_2d(corrupted, weights, T, steps):\n",
    "    beta = 1/T\n",
    "    rows = corrupted.shape[0]\n",
    "    columns = corrupted.shape[1]\n",
    "    pattern_copy = corrupted.reshape(-1).copy()\n",
    "    \n",
    "    for _ in range(steps):\n",
    "        i = np.random.randint(0,len(corrupted))\n",
    "        hi = np.sum(weights[i] * pattern_copy)\n",
    "        Delta_E = 2 * pattern_copy[i] * hi\n",
    "        x = np.random.random()\n",
    "        \n",
    "        #Metropolis condition:\n",
    "        if Delta_E < 0 or x < np.exp(-beta * Delta_E):\n",
    "            pattern_copy[i] *= -1\n",
    "    return pattern_copy.reshape(rows,columns)"
   ]
  },
  {
   "cell_type": "markdown",
   "id": "280546f1",
   "metadata": {},
   "source": [
    "Let's see if it works:"
   ]
  },
  {
   "cell_type": "code",
   "execution_count": 15,
   "id": "5c975556",
   "metadata": {},
   "outputs": [
    {
     "name": "stdout",
     "output_type": "stream",
     "text": [
      "corrupted pattern: \n",
      "\n",
      "[[-1 -1 -1]\n",
      " [ 1 -1 -1]\n",
      " [-1  1  1]]\n",
      "\n",
      "Energy after the corruption:  -1.7777777777777777\n",
      "\n",
      " Retrieved pattern: \n",
      "\n",
      " [[ 1  1 -1]\n",
      " [ 1 -1 -1]\n",
      " [-1  1  1]]\n",
      "\n",
      "Energy of the retrieved pattern:  -3.5555555555555554\n",
      "accuracy:  1.0\n"
     ]
    }
   ],
   "source": [
    "N = 2 #number of patterns\n",
    "rows = 3 \n",
    "columns = 3\n",
    "\n",
    "patterns2d = create_patterns_2d(rows,columns,N)\n",
    "J_2d = compute_weights_2d(patterns2d)\n",
    "\n",
    "# Apply MC evolution for pattern 0 for example\n",
    "q = 0.25 # fraction of corrupted spins in a pattern\n",
    "corrupted = pattern_corruption_2d(patterns2d[0],q) # corrupt pattern 0\n",
    "\n",
    "#let'see the results:\n",
    "print(\"corrupted pattern: \\n\")\n",
    "print(corrupted)\n",
    "print(\"\\nEnergy after the corruption: \", compute_energy_2d(corrupted, J_2d)) #check total energy of the configuration\n",
    "print(\"\\n Retrieved pattern: \")\n",
    "\n",
    "T = 0.001 # thermal noise\n",
    "steps = 1000 # number of iterations\n",
    "retrieved_pattern = metropolis_2d(corrupted,J_2d,T,steps) #apply metropolis algorithm to retrieve the original stored pattern\n",
    "print(\"\\n\",retrieved_pattern)\n",
    "print(\"\\nEnergy of the retrieved pattern: \", compute_energy_2d(retrieved_pattern, J_2d))\n",
    "\n",
    "# check accuracy of the retrieval process\n",
    "print(\"accuracy: \", check_correctness(patterns2d[0],retrieved_pattern))"
   ]
  },
  {
   "cell_type": "code",
   "execution_count": null,
   "id": "b4eb3e73",
   "metadata": {},
   "outputs": [],
   "source": []
  }
 ],
 "metadata": {
  "kernelspec": {
   "display_name": "Python 3 (ipykernel)",
   "language": "python",
   "name": "python3"
  },
  "language_info": {
   "codemirror_mode": {
    "name": "ipython",
    "version": 3
   },
   "file_extension": ".py",
   "mimetype": "text/x-python",
   "name": "python",
   "nbconvert_exporter": "python",
   "pygments_lexer": "ipython3",
   "version": "3.9.13"
  }
 },
 "nbformat": 4,
 "nbformat_minor": 5
}
