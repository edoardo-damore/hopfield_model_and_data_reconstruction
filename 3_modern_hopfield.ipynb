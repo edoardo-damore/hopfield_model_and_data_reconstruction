{
 "cells": [
  {
   "cell_type": "code",
   "execution_count": 99,
   "metadata": {},
   "outputs": [],
   "source": [
    "import numpy as np\n",
    "import pandas as pd\n",
    "import matplotlib.pyplot as plt\n",
    "from tqdm import tqdm\n",
    "from multiprocessing import Pool\n",
    "\n",
    "from utils import pattern_utils"
   ]
  },
  {
   "cell_type": "code",
   "execution_count": 100,
   "metadata": {},
   "outputs": [],
   "source": [
    "n_cpus = 4"
   ]
  },
  {
   "cell_type": "code",
   "execution_count": 101,
   "metadata": {},
   "outputs": [],
   "source": [
    "class modern_hopfield():\n",
    "  \n",
    "  func_type = \"Polyn\"\n",
    "  def __init__(self, N: int):\n",
    "    \"\"\"\n",
    "    `N`: number of neurons of the network\n",
    "    \"\"\"\n",
    "    self.N = N\n",
    "    self.memory_matrix = np.zeros(shape=(1,N))\n",
    "    return\n",
    "  \n",
    "  def add_pattern(self, p: np.ndarray):\n",
    "    \"\"\"\n",
    "    `p`: pattern to add to memory\n",
    "    \"\"\"\n",
    "    if self.memory_matrix[0,0]==0:\n",
    "      self.memory_matrix = p\n",
    "    else:\n",
    "      self.memory_matrix = np.hstack((self.memory_matrix, p))\n",
    "    return\n",
    "\n",
    "  def retrieve_pattern(self, p: np.ndarray, epochs: int):\n",
    "    \"\"\"\n",
    "    `p`: input pattern  \\n\n",
    "    `epochs`: maximum number of iterations \\n\n",
    "    performs the update rule up to `epochs` times, trying to match the input pattern `p` to a pattern stored in memory     \n",
    "    \"\"\"\n",
    "    sigma = p.copy()\n",
    "    for epoch in range(epochs):\n",
    "      sigma = self._update_rule(sigma)\n",
    "    return sigma\n",
    "\n",
    "  def _update_rule(self, sigma: np.ndarray):\n",
    "    \"\"\"\n",
    "    `sigma`: vector containing the values of the network's neurons at time t. \\n \n",
    "    Returns the values of the network's neurons at time t+1 \n",
    "    \"\"\"\n",
    "    s = 0\n",
    "    for xi in self.memory_matrix:\n",
    "      s += self._F(xi + np.dot(xi, sigma) - np.multiply(xi, sigma)) - self._F(-xi + np.dot(xi, sigma) - np.multiply(xi, sigma))\n",
    "    return np.sign(s)\n",
    "  \n",
    "  n=3\n",
    "  def _F(self, x):\n",
    "    \"\"\"\n",
    "    Energy function used in the update rule. \\n\n",
    "    Different types of function:\n",
    "    - `Polyn`: polynomial function of order n\n",
    "    - `RePn`: rectified polynomial function of order n\n",
    "    \"\"\"\n",
    "    match self.func_type:\n",
    "      case \"Polyn\":\n",
    "        return x**self.n\n",
    "      case \"RePn\":\n",
    "        return np.maximum(0, x**self.n)\n",
    "  \n"
   ]
  },
  {
   "cell_type": "markdown",
   "metadata": {},
   "source": [
    "# Testing"
   ]
  },
  {
   "cell_type": "markdown",
   "metadata": {},
   "source": [
    "## Corruption"
   ]
  },
  {
   "cell_type": "code",
   "execution_count": 102,
   "metadata": {},
   "outputs": [],
   "source": [
    "# hyperparameters of the analysis\n",
    "pattern_lenght = 100\n",
    "n_patterns = 100\n",
    "steps = 11\n",
    "epochs = 100\n"
   ]
  },
  {
   "cell_type": "code",
   "execution_count": 103,
   "metadata": {},
   "outputs": [],
   "source": [
    "def corruption_analysis(corruption_quantity):\n",
    "\n",
    "  model = modern_hopfield(pattern_lenght)\n",
    "  patterns = pattern_utils.generate_patterns(pattern_lenght=pattern_lenght, N=n_patterns)\n",
    "  model.add_pattern(patterns)\n",
    "\n",
    "  correctly_identified = []\n",
    "  for q in corruption_quantity:\n",
    "    corrupted = pattern_utils.corrupt_patterns(patterns=patterns, q=q, corruption_type=\"Flip\")\n",
    "\n",
    "    c_id = 0 \n",
    "    for i, c in enumerate(corrupted):\n",
    "      r = model.retrieve_pattern(c, epochs=epochs)\n",
    "      if np.array_equal(r, patterns[i]): \n",
    "        c_id += 1\n",
    "    correctly_identified.append(c_id)\n",
    "    # print(f\"Corruption quantity {q} | Correcly identified : {c_id}\")\n",
    "  return np.array(correctly_identified)"
   ]
  },
  {
   "cell_type": "code",
   "execution_count": 104,
   "metadata": {},
   "outputs": [],
   "source": [
    "corruption_quantity = np.array([np.linspace(0, 1, steps)]*n_cpus)\n",
    "pool = Pool(n_cpus)\n",
    "results = pool.map(corruption_analysis, corruption_quantity)"
   ]
  },
  {
   "cell_type": "code",
   "execution_count": 105,
   "metadata": {},
   "outputs": [
    {
     "name": "stdout",
     "output_type": "stream",
     "text": [
      "[array([100, 100, 100,  75,  13,   0,  18,  87, 100, 100, 100]), array([100, 100, 100,  75,  13,   0,  18,  87, 100, 100, 100]), array([100, 100, 100,  75,  13,   0,  18,  87, 100, 100, 100]), array([100, 100, 100,  75,  13,   0,  18,  87, 100, 100, 100])]\n"
     ]
    }
   ],
   "source": [
    "print(results)"
   ]
  },
  {
   "cell_type": "code",
   "execution_count": 106,
   "metadata": {},
   "outputs": [
    {
     "data": {
      "image/png": "[encoded data removed]",
      "text/plain": [
       "<Figure size 640x480 with 1 Axes>"
      ]
     },
     "metadata": {},
     "output_type": "display_data"
    }
   ],
   "source": [
    "fig, ax = plt.subplots()\n",
    "\n",
    "for r in results:\n",
    "  ax.plot(np.linspace(0,1,steps), r)\n",
    "\n",
    "fig.tight_layout()"
   ]
  }
 ],
 "metadata": {
  "kernelspec": {
   "display_name": ".venv",
   "language": "python",
   "name": "python3"
  },
  "language_info": {
   "codemirror_mode": {
    "name": "ipython",
    "version": 3
   },
   "file_extension": ".py",
   "mimetype": "text/x-python",
   "name": "python",
   "nbconvert_exporter": "python",
   "pygments_lexer": "ipython3",
   "version": "3.12.3"
  }
 },
 "nbformat": 4,
 "nbformat_minor": 2
}
