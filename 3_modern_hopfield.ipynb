{
 "cells": [
  {
   "cell_type": "code",
   "execution_count": 1034,
   "metadata": {},
   "outputs": [],
   "source": [
    "import numpy as np\n",
    "import pandas as pd\n",
    "import matplotlib.pyplot as plt\n",
    "from tqdm import tqdm\n",
    "\n"
   ]
  },
  {
   "cell_type": "code",
   "execution_count": 1035,
   "metadata": {},
   "outputs": [],
   "source": [
    "class modern_hopfield():\n",
    "  \n",
    "  memory_matrix = []\n",
    "  func_type = \"Polyn\"\n",
    "  def __init__(self, N: int):\n",
    "    \"\"\"\n",
    "    `N`: number of neurons of the network\n",
    "    \"\"\"\n",
    "    self.N = N\n",
    "    return\n",
    "  \n",
    "  def add_pattern(self, p: np.ndarray):\n",
    "    \"\"\"\n",
    "    `p`: pattern to add to memory\n",
    "    \"\"\"\n",
    "    self.memory_matrix.append(p)\n",
    "    return\n",
    "\n",
    "  def retrieve_pattern(self, p: np.ndarray, epochs: int):\n",
    "    \"\"\"\n",
    "    `p`: input pattern  \\n\n",
    "    `epochs`: maximum number of iterations \\n\n",
    "    performs the update rule up to `epochs` times, trying to match the input pattern `p` to a pattern stored in memory     \n",
    "    \"\"\"\n",
    "    sigma = p.copy()\n",
    "    for epoch in tqdm(range(epochs)):\n",
    "      sigma = self._update_rule(sigma)\n",
    "    return sigma\n",
    "\n",
    "  def _update_rule(self, sigma: np.ndarray):\n",
    "    \"\"\"\n",
    "    `sigma`: vector containing the values of the network's neurons at time t. \\n \n",
    "    The update rule returns the values of the network's neurons at time t+1 \n",
    "    \"\"\"\n",
    "    s = 0\n",
    "    for xi in self.memory_matrix:\n",
    "      s += self._F(xi + np.dot(xi, sigma) - np.multiply(xi, sigma)) - self._F(-xi + np.dot(xi, sigma) - np.multiply(xi, sigma))\n",
    "    return np.sign(s)\n",
    "  \n",
    "  n=3\n",
    "  def _F(self, x):\n",
    "    \"\"\"\n",
    "    Energy function used in the update rule. \\n\n",
    "    Different types of function:\n",
    "    - `Polyn`: polynomial function of order n\n",
    "    - `RePn`: rectified polynomial function of order n\n",
    "    \"\"\"\n",
    "    match self.func_type:\n",
    "      case \"Polyn\":\n",
    "        return x**self.n\n",
    "      case \"RePn\":\n",
    "        return np.maximum(0, x**self.n)\n",
    "  \n"
   ]
  },
  {
   "cell_type": "code",
   "execution_count": 1036,
   "metadata": {},
   "outputs": [],
   "source": [
    "N = 100\n",
    "n_patterns = 100\n",
    "epochs = 100\n",
    "\n",
    "model = modern_hopfield(N)"
   ]
  },
  {
   "cell_type": "code",
   "execution_count": 1037,
   "metadata": {},
   "outputs": [],
   "source": [
    "patterns = []\n",
    "for i in range(n_patterns):\n",
    "  patterns.append(np.random.randint(0,2,N) * 2 - 1)\n",
    "\n",
    "for p in patterns:\n",
    "  model.add_pattern(p)"
   ]
  },
  {
   "cell_type": "code",
   "execution_count": 1038,
   "metadata": {},
   "outputs": [
    {
     "data": {
      "text/plain": [
       "array([ 1,  1,  1,  1,  1, -1, -1,  1,  1,  1,  1,  1, -1, -1,  1,  1,  1,\n",
       "        1,  1, -1, -1,  1, -1, -1, -1,  1, -1, -1,  1, -1, -1, -1, -1, -1,\n",
       "       -1,  1, -1,  1, -1, -1,  1,  1, -1, -1, -1,  1, -1, -1,  1, -1,  1,\n",
       "        1, -1, -1,  1,  1, -1,  1, -1, -1,  1, -1, -1, -1, -1,  1,  1, -1,\n",
       "       -1,  1, -1, -1, -1, -1, -1, -1,  1, -1,  1,  1, -1,  1,  1, -1, -1,\n",
       "       -1,  1, -1, -1,  1,  1,  1, -1,  1, -1, -1,  1,  1,  1,  1])"
      ]
     },
     "execution_count": 1038,
     "metadata": {},
     "output_type": "execute_result"
    }
   ],
   "source": [
    "p0 = patterns[0].copy()\n",
    "\n",
    "p0[3:45] = - p0[3:45]\n",
    "p0"
   ]
  },
  {
   "cell_type": "code",
   "execution_count": 1039,
   "metadata": {},
   "outputs": [
    {
     "name": "stderr",
     "output_type": "stream",
     "text": [
      "100%|██████████| 100/100 [00:00<00:00, 361.76it/s]"
     ]
    },
    {
     "name": "stdout",
     "output_type": "stream",
     "text": [
      "[ 1  1  1 -1 -1  1  1 -1 -1 -1 -1 -1  1  1 -1 -1 -1 -1 -1  1  1 -1  1  1\n",
      "  1 -1  1  1 -1  1  1  1  1  1  1 -1  1 -1  1  1 -1 -1  1  1  1  1 -1 -1\n",
      "  1 -1  1  1 -1 -1  1  1 -1  1 -1 -1  1 -1 -1 -1 -1  1  1 -1 -1  1 -1 -1\n",
      " -1 -1 -1 -1  1 -1  1  1 -1  1  1 -1 -1 -1  1 -1 -1  1  1  1 -1  1 -1 -1\n",
      "  1  1  1  1] \n",
      "\n",
      "[-1 -1 -1  1 -1  1 -1  1  1  1 -1 -1  1  1 -1 -1  1 -1 -1  1  1  1 -1  1\n",
      "  1 -1 -1 -1  1 -1  1  1  1  1  1  1  1 -1 -1 -1 -1 -1 -1  1 -1  1 -1 -1\n",
      " -1 -1  1  1  1  1  1 -1 -1  1  1  1 -1 -1 -1  1  1 -1 -1  1  1  1 -1  1\n",
      "  1  1 -1  1  1  1 -1 -1 -1  1 -1 -1 -1 -1 -1  1  1 -1 -1 -1 -1 -1  1  1\n",
      " -1 -1 -1 -1] \n",
      "\n",
      "different match found\n"
     ]
    },
    {
     "name": "stderr",
     "output_type": "stream",
     "text": [
      "\n"
     ]
    }
   ],
   "source": [
    "retrieved_p = model.retrieve_pattern(p0, epochs)\n",
    "\n",
    "print(patterns[0], \"\\n\")\n",
    "print(retrieved_p, \"\\n\")\n",
    "\n",
    "if np.array_equal(retrieved_p, patterns[0]): print(\"they are equal\")\n",
    "\n",
    "for p in patterns:\n",
    "  if np.array_equal(retrieved_p, p): print(\"different match found\")"
   ]
  }
 ],
 "metadata": {
  "kernelspec": {
   "display_name": ".venv",
   "language": "python",
   "name": "python3"
  },
  "language_info": {
   "codemirror_mode": {
    "name": "ipython",
    "version": 3
   },
   "file_extension": ".py",
   "mimetype": "text/x-python",
   "name": "python",
   "nbconvert_exporter": "python",
   "pygments_lexer": "ipython3",
   "version": "3.12.3"
  }
 },
 "nbformat": 4,
 "nbformat_minor": 2
}
