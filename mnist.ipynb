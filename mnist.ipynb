{
 "cells": [
  {
   "cell_type": "markdown",
   "metadata": {},
   "source": [
    "# MNIST DATASET\n",
    "In this section, the goal will be to test the performance of the three implementation methods for the Hopfield model seen so far on a real dataset, MNIST, which contains handwritten digits.\n",
    "\n",
    "The MNIST dataset consists in a 28x28 pixel grayscale images of handwritten digits (0–9) along with their corresponding labels."
   ]
  },
  {
   "cell_type": "code",
   "execution_count": 1,
   "metadata": {},
   "outputs": [],
   "source": [
    "import numpy as np \n",
    "import pandas as pd \n",
    "import matplotlib.pyplot as plt"
   ]
  },
  {
   "cell_type": "code",
   "execution_count": 2,
   "metadata": {},
   "outputs": [
    {
     "name": "stdout",
     "output_type": "stream",
     "text": [
      "Train shape: (60000, 785)\n",
      "Test shape: (10000, 785)\n"
     ]
    }
   ],
   "source": [
    "# Load the dataset\n",
    "df_train = pd.read_csv(\"data/mnist_train.csv\")\n",
    "df_test = pd.read_csv(\"data/mnist_test.csv\")\n",
    "\n",
    "# Check the shapes\n",
    "print(\"Train shape:\", df_train.shape)\n",
    "print(\"Test shape:\", df_test.shape)"
   ]
  },
  {
   "cell_type": "markdown",
   "metadata": {},
   "source": [
    "The dataset is composed of 785 columns. From 1 to 784 represents each pixel of the image (28x28), while the last one (785) is the label containing the value of the corresponding digit.\n",
    "\n",
    "Now I have to separate data in features and labels matrices and then normalize them."
   ]
  },
  {
   "cell_type": "code",
   "execution_count": 3,
   "metadata": {},
   "outputs": [],
   "source": [
    "# Divide features and labels\n",
    "y_train = df_train[\"label\"].values\n",
    "x_train = df_train.drop(\"label\", axis=1).values\n",
    "\n",
    "y_test = df_test[\"label\"].values\n",
    "x_test = df_test.drop(\"label\", axis=1).values\n",
    "\n",
    "# Normalize the data\n",
    "x_train = x_train/255\n",
    "x_test = x_test/255"
   ]
  },
  {
   "cell_type": "code",
   "execution_count": 4,
   "metadata": {},
   "outputs": [
    {
     "data": {
      "image/png": "[encoded data removed]",
      "text/plain": [
       "<Figure size 600x400 with 10 Axes>"
      ]
     },
     "metadata": {},
     "output_type": "display_data"
    }
   ],
   "source": [
    "# Visualize images\n",
    "fig, axs = plt.subplots(2, 5, figsize=(6, 4))\n",
    "axs = axs.ravel()  \n",
    "\n",
    "for i in range(10):\n",
    "\n",
    "    # Visualize numbers from 0 to 9\n",
    "    idx = np.where(y_train==i)[0][0]\n",
    "    image = x_train[idx].reshape(28, 28)\n",
    "\n",
    "    axs[i].imshow(image, cmap=\"grey\")\n",
    "    axs[i].set_title(f\"Label: {i}\")\n",
    "    axs[i].axis('off') \n",
    "\n",
    "plt.tight_layout()\n",
    "plt.show()"
   ]
  },
  {
   "cell_type": "markdown",
   "metadata": {},
   "source": [
    "### Train the network with the three previous methods"
   ]
  },
  {
   "cell_type": "code",
   "execution_count": null,
   "metadata": {},
   "outputs": [],
   "source": []
  },
  {
   "cell_type": "markdown",
   "metadata": {},
   "source": [
    "### Corrupt the patterns and see if they are still recognizable"
   ]
  },
  {
   "cell_type": "code",
   "execution_count": 5,
   "metadata": {},
   "outputs": [
    {
     "name": "stderr",
     "output_type": "stream",
     "text": [
      "/var/folders/9p/sxfs2z3j2ln1p3kz5qdq03_w0000gn/T/ipykernel_29778/2235273431.py:38: UserWarning: FigureCanvasAgg is non-interactive, and thus cannot be shown\n",
      "  plt.show()\n"
     ]
    },
    {
     "data": {
      "image/png": "[encoded data removed]",
      "text/plain": [
       "<Figure size 600x300 with 2 Axes>"
      ]
     },
     "metadata": {},
     "output_type": "display_data"
    }
   ],
   "source": [
    "def cut_image(image, side=\"left\"):\n",
    "    \"\"\"\n",
    "    Cut an image at half putting to zero one of the two parts.\n",
    "\n",
    "    image: image to corrupt\n",
    "    side: decide which side of the picture keep\n",
    "        - \"left\": keep the left side of the image\n",
    "        - \"right\": keep the right side of the image\n",
    "    \"\"\"\n",
    "    \n",
    "    cut = image.shape[1]//2\n",
    "    corrupted_image = np.copy(image)\n",
    "\n",
    "    if side == \"left\":\n",
    "        corrupted_image[:, cut:] = 0 # Put to zero the right side of the image\n",
    "    \n",
    "    elif side == \"right\":\n",
    "        corrupted_image[:, :cut] = 0 # Put to zero the left side of the image\n",
    "\n",
    "    return corrupted_image\n",
    "\n",
    "\n",
    "# Just let's see if it works\n",
    "idx = np.where(y_train == 6)[0][0]\n",
    "original_image = x_train[idx].reshape(28, 28)\n",
    "\n",
    "noisy_image1 = cut_image(original_image, \"left\")\n",
    "noisy_image2 = cut_image(original_image, \"right\")\n",
    "\n",
    "# Plot\n",
    "plt, axs = plt.subplots(1, 2, figsize=(6, 3))\n",
    "axs[0].imshow(noisy_image1, cmap=\"grey\")\n",
    "axs[0].set_title(\"left side\")\n",
    "\n",
    "axs[1].imshow(noisy_image2, cmap=\"grey\")\n",
    "axs[1].set_title(\"right side\")\n",
    "\n",
    "plt.show()"
   ]
  },
  {
   "cell_type": "code",
   "execution_count": null,
   "metadata": {},
   "outputs": [],
   "source": []
  }
 ],
 "metadata": {
  "kernelspec": {
   "display_name": "Python 3",
   "language": "python",
   "name": "python3"
  },
  "language_info": {
   "codemirror_mode": {
    "name": "ipython",
    "version": 3
   },
   "file_extension": ".py",
   "mimetype": "text/x-python",
   "name": "python",
   "nbconvert_exporter": "python",
   "pygments_lexer": "ipython3",
   "version": "3.12.0"
  }
 },
 "nbformat": 4,
 "nbformat_minor": 2
}
